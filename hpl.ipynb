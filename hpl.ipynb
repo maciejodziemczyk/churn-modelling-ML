{
 "cells": [
  {
   "cell_type": "code",
   "execution_count": 1,
   "metadata": {},
   "outputs": [],
   "source": [
    "# import bibliotek\n",
    "import pandas as pd\n",
    "import numpy as np\n",
    "import matplotlib.pyplot as plt\n",
    "import seaborn as sns\n",
    "from patsy import dmatrices\n",
    "from statsmodels.stats.outliers_influence import variance_inflation_factor\n",
    "import statsmodels.formula.api as smf\n",
    "import statsmodels.api as sm\n",
    "from sklearn.metrics import roc_curve, precision_recall_curve, roc_auc_score, average_precision_score"
   ]
  },
  {
   "cell_type": "code",
   "execution_count": 2,
   "metadata": {},
   "outputs": [],
   "source": [
    "# funkcja do określenia liczby subplotów na podstawie wektora niepustych wykresów\n",
    "# funkcja zwraca obiekt typu lista [liczba wierszy, liczba kolumn].\n",
    "# argumenty, dokumentacja:\n",
    "#     arr - wektor, liczba niepustych wykresów (np. kolumny/wiersze z DataFrame)\n",
    "#     num_of_cols - int, liczba kolumn, jaką ma mieć nasz subplot\n",
    "\n",
    "def subplotShape(arr, num_of_cols = 4):\n",
    "    if num_of_cols > arr.shape[0]:\n",
    "        raise 'num_of_cols > arr'\n",
    "    elif arr.shape[0] % num_of_cols != 0:\n",
    "        for i in range(1, arr.shape[0]): # szukanie reszty z dzielenia\n",
    "            if arr.shape[0] % num_of_cols == i:\n",
    "                arr = np.append(arr, np.zeros((1, num_of_cols-i))) # dopełnienie do dzielenia bez reszty w kształcie\n",
    "                arr = np.reshape(arr, (-1, num_of_cols)) # dopasowanie liczby wierszy do liczby kolumn\n",
    "                return [arr.shape[0], arr.shape[1]] # lista [liczba wierszy, liczba kolumn]\n",
    "                break\n",
    "    else:\n",
    "        arr = np.reshape(arr, (-1, num_of_cols)) # dopasowanie liczby wierszy do liczby kolumn\n",
    "        return [arr.shape[0], arr.shape[1]] # lista [liczba wierszy, liczba kolumn]"
   ]
  },
  {
   "cell_type": "code",
   "execution_count": 3,
   "metadata": {},
   "outputs": [],
   "source": [
    "def popMeanTest(a, b, alfa = 0.05, alternative = 'two-sided'):\n",
    "    # import rozkładu normalnego\n",
    "    from scipy.stats import norm\n",
    "    \n",
    "    # statystyka testowa\n",
    "    stat = (a.mean()-b.mean())/(((a.var()/a.shape[0])+(b.var()/b.shape[0]))**(1/2))\n",
    "    \n",
    "    # wartość krytyczna i p_value dla wybranej hipotezy alternatywnej\n",
    "    if alternative == 'two-sided':\n",
    "        critical_value = norm.ppf(q = 1-alfa/2)\n",
    "        p = 2*(1-norm.cdf(abs(stat)))  \n",
    "    elif alternative == 'one-sided':\n",
    "        critical_value = norm.ppf(q = 1-alfa)\n",
    "        p = 1-norm.cdf(abs(stat))\n",
    "    else:\n",
    "        raise 'niepoprawny wynik, sprawdź argumenty'\n",
    "    \n",
    "    # zwrócenie wyników\n",
    "    return stat, critical_value, p"
   ]
  },
  {
   "cell_type": "code",
   "execution_count": 4,
   "metadata": {},
   "outputs": [],
   "source": [
    "def plotROCsPRs(results):\n",
    "    \n",
    "    f, ax = plt.subplots(nrows = 1, ncols = 2, figsize = (17, 7))\n",
    "    \n",
    "    for true, pred, label in results:\n",
    "        # Obliczenie punktów potrzebnych do narysowania krzywych ROC i PR\n",
    "        # funkcja roc_curve zwarca trzy serie danych, fpr, tpr oraz poziomy progów odcięcia\n",
    "        fpr, tpr, thresholds = roc_curve(true, pred)\n",
    "        precision, recall, thresholds = precision_recall_curve(true, pred)\n",
    "        # Obliczamy pole powierzchni pod krzywymi\n",
    "        rocScore = round(roc_auc_score(true, pred), 4)\n",
    "        average_precision = round(average_precision_score(true, pred), 4)\n",
    "        \n",
    "        # Grubość krzywych\n",
    "        lw = 2\n",
    "        \n",
    "        # Rysujemy krzywą ROC i PR\n",
    "        ax[0].plot(fpr, tpr, lw = lw, label = '{}: {}'.format(label, rocScore))\n",
    "        ax[1].plot(recall, precision, lw=lw, label='{}: {}'.format(label, average_precision))\n",
    "    \n",
    "    # Rysujemy krzywą 45 stopni jako punkt odniesienia\n",
    "    ax[0].plot([0, 1], [0, 1], color = 'navy', lw = lw, linestyle = '--')\n",
    "    \n",
    "    \n",
    "    ax[0].set_xlim([-0.01, 1.0])\n",
    "    ax[0].set_ylim([0.0, 1.01])\n",
    "    ax[0].set_xlabel('False Positive Rate')\n",
    "    ax[0].set_ylabel('True Positive Rate')\n",
    "    ax[0].set_title('Receiver operating characteristic')\n",
    "    ax[0].legend(loc = \"lower right\")\n",
    "    \n",
    "    ax[1].set_xlim([-0.01, 1.0])\n",
    "    ax[1].set_ylim([0.0, 1.01])\n",
    "    ax[1].set_xlabel('Recall')\n",
    "    ax[1].set_ylabel('Precision')\n",
    "    ax[1].set_title('Precision Recall Curve')\n",
    "    ax[1].legend(loc = \"lower right\")\n",
    "    \n",
    "    plt.show()\n"
   ]
  },
  {
   "cell_type": "code",
   "execution_count": 5,
   "metadata": {},
   "outputs": [],
   "source": [
    "def smart_log_var(df, feature):\n",
    "    '''Funkcja, która policzy logarytm, zamieniając wczesniej wartości mniejsze od zera na 0'''\n",
    "    df['{}_log'.format(feature)] = df[feature].copy()\n",
    "    df.loc[df['{}_log'.format(feature)] < 0, '{}_log'.format(feature)] = 0\n",
    "    df['{}_log'.format(feature)] = np.log(df['{}_log'.format(feature)]+1)"
   ]
  },
  {
   "cell_type": "code",
   "execution_count": 6,
   "metadata": {},
   "outputs": [],
   "source": [
    "def linktest(modres, y, data, model = 'logit'):\n",
    "    \n",
    "    try:\n",
    "        # definiowanie wartości dopasowanych i ich kwadratów\n",
    "        y = pd.Series(np.array(data[y]))\n",
    "        y_fit = pd.Series(modres.predict())\n",
    "        yhat = np.log(y_fit/(1-y_fit))\n",
    "        yhat2 = yhat.copy()**2\n",
    "        data = pd.concat((y, yhat, yhat2), axis = 1)\n",
    "        \n",
    "        # model pomocniczy\n",
    "        if model == 'logit':\n",
    "            from statsmodels.formula.api import logit\n",
    "            reg = smf.glm(formula = 'y~yhat+yhat2', data = df, family = sm.families.Binomial(\n",
    "                link = sm.genmod.families.links.logit())).fit(disp = False)\n",
    "        elif model == 'probit':\n",
    "            from statsmodels.formula.api import probit\n",
    "            reg = smf.glm(formula = 'y~yhat+yhat2', data = df, family = sm.families.Binomial(\n",
    "                link = sm.genmod.families.links.probit())).fit(disp = False)\n",
    "        else:\n",
    "            raise 'link test only for \"logit\" and \"probit\" models'\n",
    "        \n",
    "        # zwrócenie wyników\n",
    "        return reg\n",
    "            \n",
    "    except:\n",
    "        raise 'y should be depended value from model'   "
   ]
  },
  {
   "cell_type": "code",
   "execution_count": 7,
   "metadata": {},
   "outputs": [],
   "source": [
    "def unitarization(series):\n",
    "    maximum = series.max()\n",
    "    minimum = series.min()\n",
    "    y = series.copy()\n",
    "    return y.apply(lambda x: ((x-minimum)/(maximum-minimum)))"
   ]
  }
 ],
 "metadata": {
  "kernelspec": {
   "display_name": "Python 3",
   "language": "python",
   "name": "python3"
  },
  "language_info": {
   "codemirror_mode": {
    "name": "ipython",
    "version": 3
   },
   "file_extension": ".py",
   "mimetype": "text/x-python",
   "name": "python",
   "nbconvert_exporter": "python",
   "pygments_lexer": "ipython3",
   "version": "3.7.6"
  }
 },
 "nbformat": 4,
 "nbformat_minor": 4
}
